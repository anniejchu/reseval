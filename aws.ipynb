{
 "cells": [
  {
   "cell_type": "code",
   "execution_count": null,
   "id": "91684d53-e361-484e-bb55-1e714508c1c4",
   "metadata": {
    "tags": []
   },
   "outputs": [],
   "source": [
    "%load_ext autoreload\n",
    "%autoreload 2"
   ]
  },
  {
   "cell_type": "code",
   "execution_count": null,
   "id": "14f455ef-939f-42f9-87f0-1685853c6bf7",
   "metadata": {
    "tags": []
   },
   "outputs": [],
   "source": [
    "import contextlib\n",
    "import json\n",
    "import os\n",
    "import string\n",
    "import tarfile\n",
    "import tempfile\n",
    "import time\n",
    "import zipfile\n",
    "from pathlib import Path\n",
    "\n",
    "import boto3\n",
    "import mysql\n",
    "\n",
    "import reseval"
   ]
  },
  {
   "cell_type": "code",
   "execution_count": null,
   "id": "5acacacf-0531-4d53-b24f-dd9c29077bf2",
   "metadata": {
    "tags": []
   },
   "outputs": [],
   "source": [
    "# Create a globally unique name to prevent collision\n",
    "unique = (\n",
    "    reseval.random.string(1, string.ascii_lowercase) +\n",
    "    reseval.random.string(23))\n",
    "\n",
    "# Save unique name\n",
    "credentials_file = (\n",
    "    reseval.EVALUATION_DIRECTORY /\n",
    "    unique /\n",
    "    'credentials' /\n",
    "    'unique.json')\n",
    "credentials_file.parent.mkdir(exist_ok=True, parents=True)\n",
    "with open(credentials_file, 'w') as file:\n",
    "    json.dump({'unique': unique}, file)"
   ]
  },
  {
   "cell_type": "markdown",
   "id": "bfe62b1e-11f5-4a00-a3ab-aa6b060e31b5",
   "metadata": {},
   "source": [
    "## Create"
   ]
  },
  {
   "cell_type": "markdown",
   "id": "283d8df9-ab4f-45b6-b485-d4d13ea91599",
   "metadata": {},
   "source": [
    "### Storage"
   ]
  },
  {
   "cell_type": "code",
   "execution_count": null,
   "id": "8eee2644-0600-4b26-9444-745007b81c8d",
   "metadata": {},
   "outputs": [],
   "source": [
    "# Connect to S3\n",
    "client = reseval.storage.aws.connect()\n",
    "\n",
    "# Create bucket\n",
    "client.create_bucket(Bucket=unique, ObjectOwnership='ObjectWriter')\n",
    "\n",
    "# Set bucket policy to public read-only\n",
    "client.put_public_access_block(\n",
    "    Bucket=unique,\n",
    "    PublicAccessBlockConfiguration={\n",
    "        'BlockPublicAcls': False,\n",
    "        'IgnorePublicAcls': False,\n",
    "        'BlockPublicPolicy': False,\n",
    "        'RestrictPublicBuckets': False\n",
    "    })\n",
    "client.put_bucket_acl(ACL='public-read', Bucket=unique)\n",
    "\n",
    "# Load CORS policy as JSON\n",
    "with open(reseval.ASSETS_DIR / 'cors.json') as file:\n",
    "    cors = {'CORSRules': json.load(file)}\n",
    "\n",
    "# Set bucket CORS to allow reads\n",
    "client.put_bucket_cors(Bucket=unique, CORSConfiguration=cors)"
   ]
  },
  {
   "cell_type": "markdown",
   "id": "d445c549-0a2b-4b8f-a45d-abcb4e601fdb",
   "metadata": {},
   "source": [
    "### Database"
   ]
  },
  {
   "cell_type": "code",
   "execution_count": null,
   "id": "4fc1b9f3-ab59-444f-83cd-d39f8b9123ae",
   "metadata": {
    "tags": []
   },
   "outputs": [],
   "source": [
    "@contextlib.contextmanager\n",
    "def connect():\n",
    "    \"\"\"Connect to a MySQL database\"\"\"\n",
    "    try:\n",
    "\n",
    "        # Connect to the database\n",
    "        connection = mysql.connector.connect(\n",
    "            database=os.environ['RDS_DB_NAME'],\n",
    "            host=os.environ['RDS_HOSTNAME'],\n",
    "            user=os.environ['RDS_USERNAME'],\n",
    "            password=os.environ['RDS_PASSWORD'])\n",
    "\n",
    "        # Create cursor to execute commands\n",
    "        cursor = connection.cursor()\n",
    "\n",
    "        # Execute user code\n",
    "        yield connection, cursor\n",
    "\n",
    "    finally:\n",
    "\n",
    "        # Close database connection\n",
    "        if 'cursor' in locals():\n",
    "            cursor.close()\n",
    "        if 'connection' in locals():\n",
    "            connection.close()\n",
    "            \n",
    "# Connect to AWS\n",
    "client = reseval.database.aws.connect()\n",
    "\n",
    "# Create database\n",
    "response = client.create_db_instance(\n",
    "    DBName=unique,\n",
    "    DBInstanceIdentifier=unique,\n",
    "    DBInstanceClass='db.t2.micro',\n",
    "    AllocatedStorage=64,\n",
    "    Engine='mysql',\n",
    "    MasterUsername='root',\n",
    "    MasterUserPassword='password',\n",
    "    PubliclyAccessible=True)['DBInstance']\n",
    "\n",
    "print(response)\n",
    "\n",
    "# Get credentials\n",
    "while response['DBInstanceStatus'] == 'creating':\n",
    "    time.sleep(5)\n",
    "    response = client.describe_db_instances(\n",
    "        DBInstanceIdentifier=unique\n",
    "    )['DBInstances'][0]\n",
    "credentials = {\n",
    "    'RDS_HOSTNAME': response['Endpoint']['Address'],\n",
    "    'RDS_PORT': '3306',\n",
    "    'RDS_DB_NAME': unique,\n",
    "    'RDS_USERNAME': 'root',\n",
    "    'RDS_PASSWORD': 'password'}\n",
    "\n",
    "# Save environment variables\n",
    "for key, value in credentials.items():\n",
    "    os.environ[key] = value\n",
    "\n",
    "# Connect to MySQL database\n",
    "with connect() as (_, cursor):\n",
    "    \n",
    "    # Create database tables\n",
    "    for table, command in zip(reseval.database.TABLES, reseval.database.SCHEMA):\n",
    "\n",
    "        # Add prescreen questions from configuration file\n",
    "        if table == 'participants':\n",
    "\n",
    "            # Update MySQL command with prescreen questions\n",
    "            command = command.format('')\n",
    "\n",
    "        # Response type is unique to the test\n",
    "        if table == 'responses':\n",
    "            continue\n",
    "\n",
    "        # Communicate with database\n",
    "        cursor.execute(command)"
   ]
  },
  {
   "cell_type": "markdown",
   "id": "6ff172bc-5821-4c10-a7e0-2303c1daa925",
   "metadata": {},
   "source": [
    "### Server"
   ]
  },
  {
   "cell_type": "code",
   "execution_count": null,
   "id": "94a09af5-5e7b-41aa-81da-3344cbe04bff",
   "metadata": {},
   "outputs": [],
   "source": [
    "# Connect to AWS\n",
    "client = reseval.server.aws.connect()\n",
    "\n",
    "# Create elastic beanstalk application\n",
    "response = client.create_application(ApplicationName=unique)\n",
    "\n",
    "print(response)\n",
    "\n",
    "# Create elastic beanstalk environment\n",
    "response = client.create_environment(\n",
    "    ApplicationName=unique,\n",
    "    EnvironmentName=unique,\n",
    "    SolutionStackName='64bit Amazon Linux 2 v5.8.3 running Node.js 18',\n",
    "    OptionSettings=[\n",
    "        {\n",
    "            'Namespace': 'aws:elasticbeanstalk:application:environment',\n",
    "            'OptionName': key,\n",
    "            'Value': value\n",
    "        } for key, value in credentials.items()\n",
    "    ] + [{\n",
    "        'Namespace': 'aws:autoscaling:launchconfiguration',\n",
    "        'OptionName': 'IamInstanceProfile',\n",
    "        'Value': 'aws-elasticbeanstalk-ec2-role'\n",
    "    }])\n",
    "\n",
    "print(response)\n",
    "\n",
    "# Maybe install client\n",
    "client_directory = reseval.CACHE / 'client'\n",
    "if not (client_directory / 'node_modules').exists():\n",
    "    with reseval.chdir(client_directory):\n",
    "        reseval.npm.install().wait()\n",
    "\n",
    "# Build client\n",
    "with reseval.chdir(reseval.CACHE / 'client'):\n",
    "    reseval.npm.build().wait()"
   ]
  },
  {
   "cell_type": "code",
   "execution_count": null,
   "id": "6599b06d-c702-416b-aa50-f704a5024352",
   "metadata": {
    "tags": []
   },
   "outputs": [],
   "source": [
    "# Create a tarball of all files needed by the Heroku server\n",
    "with tempfile.TemporaryDirectory() as directory:\n",
    "    directory = Path(directory)\n",
    "\n",
    "    # TODO - zipfile organization\n",
    "    paths = [\n",
    "        'client/build',\n",
    "        'server',\n",
    "        'package-lock.json',\n",
    "        'package.json',\n",
    "        'Procfile',\n",
    "        'server.ts',\n",
    "        'tsconfig.json']\n",
    "    with zipfile.ZipFile(directory / 'reseval.zip', 'w') as bundle:\n",
    "        for path in paths:\n",
    "            bundle.write(reseval.CACHE / file, \"dir\\\\test.py\", zipfile.ZIP_DEFLATED)\n",
    "    \n",
    "    # Upload tarball\n",
    "    reseval.storage.aws.upload(unique, directory / 'reseval.zip')\n",
    "\n",
    "# Update application\n",
    "response = client.create_application_version(\n",
    "    ApplicationName=unique,\n",
    "    VersionLabel='0.0.1',\n",
    "    SourceBundle={\n",
    "        'S3Bucket': unique,\n",
    "        'S3Key': 'reseval.zip'\n",
    "    }\n",
    ")\n",
    "\n",
    "# Wait for build to finish\n",
    "while response['Status'] in ['Building', 'Processing', 'Unprocessed']:\n",
    "    time.sleep(5)\n",
    "    response = client.describe_application_versions(\n",
    "        ApplicationName=unique,\n",
    "        VersionLabels=['0.0.1']\n",
    "    )['ApplicationVersions'][0]['ApplicationVersion']\n",
    "\n",
    "# Application URL\n",
    "region = response['ApplicationVersionArn'].split(':')[3]\n",
    "url = f'{unique}-{region}.elasticbeanstalk.com'\n",
    "print(url)"
   ]
  },
  {
   "cell_type": "markdown",
   "id": "1f5671c6-b539-466a-af6f-8fd26c3ed1fc",
   "metadata": {
    "tags": []
   },
   "source": [
    "## Delete"
   ]
  },
  {
   "cell_type": "markdown",
   "id": "69e74ce1-b989-4750-b7e8-9ad4bcd1c0e6",
   "metadata": {},
   "source": [
    "### Server"
   ]
  },
  {
   "cell_type": "code",
   "execution_count": null,
   "id": "86ed1148-f7d8-47ba-ba7a-c19f5aa68d16",
   "metadata": {},
   "outputs": [],
   "source": [
    "# Get S3 bucket name\n",
    "arn = client.describe_application_versions(\n",
    "        ApplicationName=unique,\n",
    "        VersionLabels=['0.0.1']\n",
    "    )['ApplicationVersions'][0]['ApplicationVersionARN']\n",
    "region = arn.split(':')[3]\n",
    "bucket = arn.split(':')[4]\n",
    "\n",
    "# Connect to AWS\n",
    "client = reseval.server.aws.connect()\n",
    "\n",
    "# Delete environment\n",
    "client.terminate_environment(\n",
    "    EnvironmentName=unique,\n",
    "    TerminateResources=True,\n",
    "    ForceTerminate=True)\n",
    "\n",
    "# Connect to S3 bucket\n",
    "bucket = boto3.Session(\n",
    "    aws_access_key_id=os.environ['AWSAccessKeyId'],\n",
    "    aws_secret_access_key=os.environ['AWSSecretKey']\n",
    ").resource('s3').Bucket(f'elasticbeanstalk-{region}-{bucket}')\n",
    "\n",
    "# Delete contents\n",
    "bucket.objects.all().delete()\n",
    "\n",
    "# Delete bucket\n",
    "bucket.delete()"
   ]
  },
  {
   "cell_type": "markdown",
   "id": "56c7def0-3fa1-4cde-8d06-b762ae804011",
   "metadata": {},
   "source": [
    "### Database"
   ]
  },
  {
   "cell_type": "code",
   "execution_count": null,
   "id": "e9f737e0-c403-421b-a344-8b300ac2ebde",
   "metadata": {},
   "outputs": [],
   "source": [
    "# Connect to AWS\n",
    "client = reseval.database.aws.connect()\n",
    "\n",
    "# Delete database\n",
    "client.delete_db_instance(\n",
    "    DBInstanceIdentifier=unique,\n",
    "    SkipFinalSnapshot=True,\n",
    "    DeleteAutomatedBackups=True)"
   ]
  },
  {
   "cell_type": "markdown",
   "id": "f1acc254-9033-4ac4-9a2c-91a37980d550",
   "metadata": {},
   "source": [
    "### Storage"
   ]
  },
  {
   "cell_type": "code",
   "execution_count": null,
   "id": "58273b7b-af6a-4be4-97d5-67285965f33e",
   "metadata": {},
   "outputs": [],
   "source": [
    "# Connect to S3 bucket\n",
    "bucket = boto3.Session(\n",
    "    aws_access_key_id=os.environ['AWSAccessKeyId'],\n",
    "    aws_secret_access_key=os.environ['AWSSecretKey']\n",
    ").resource('s3').Bucket(unique)\n",
    "\n",
    "# Delete contents\n",
    "bucket.objects.all().delete()\n",
    "\n",
    "# Delete bucket\n",
    "bucket.delete()"
   ]
  },
  {
   "cell_type": "code",
   "execution_count": null,
   "id": "5a8fd171-4d38-4e77-b8d7-03dbbd8cb0b4",
   "metadata": {},
   "outputs": [],
   "source": []
  }
 ],
 "metadata": {
  "kernelspec": {
   "display_name": "env",
   "language": "python",
   "name": "env"
  },
  "language_info": {
   "codemirror_mode": {
    "name": "ipython",
    "version": 3
   },
   "file_extension": ".py",
   "mimetype": "text/x-python",
   "name": "python",
   "nbconvert_exporter": "python",
   "pygments_lexer": "ipython3",
   "version": "3.9.16"
  }
 },
 "nbformat": 4,
 "nbformat_minor": 5
}
